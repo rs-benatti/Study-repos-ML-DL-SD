{
  "nbformat": 4,
  "nbformat_minor": 0,
  "metadata": {
    "kernelspec": {
      "display_name": "Python 3",
      "language": "python",
      "name": "python3"
    },
    "language_info": {
      "codemirror_mode": {
        "name": "ipython",
        "version": 3
      },
      "file_extension": ".py",
      "mimetype": "text/x-python",
      "name": "python",
      "nbconvert_exporter": "python",
      "pygments_lexer": "ipython3",
      "version": "3.7.5"
    },
    "colab": {
      "provenance": []
    },
    "accelerator": "GPU"
  },
  "cells": [
    {
      "cell_type": "markdown",
      "metadata": {
        "id": "RIjFqlgERHAq"
      },
      "source": [
        "# IMA-205\n",
        "# TP ANN (part B)\n",
        "\n",
        "## Coding a Multi-Layer Perceptron with Tensorflow\n",
        "Author : Alasdair Newson"
      ]
    },
    {
      "cell_type": "markdown",
      "metadata": {
        "id": "oG_lwX5GRHAs"
      },
      "source": [
        "In the second part of this TP, we will be looking at the Multi-Layer Perceptron (MLP) using Tensorflow (http://www.tensorflow.org)\n",
        "\n",
        "We will be using the following packages :\n",
        "   \n",
        "   - Scikit-learn (http://scikit-learn.org/)\n",
        "   - Tensorflow (http://www.tensorflow.org)\n",
        "\n",
        "The following commands will make sure that you have all the necessary packages"
      ]
    },
    {
      "cell_type": "code",
      "metadata": {
        "id": "sCGFw05kRHAs",
        "colab": {
          "base_uri": "https://localhost:8080/"
        },
        "outputId": "0f49b5ad-434d-460e-9c40-8cd7e75c65d3"
      },
      "source": [
        "%matplotlib inline                      \n",
        "\n",
        "import numpy as np\n",
        "import matplotlib.pyplot as plt\n",
        "import os\n",
        "import pdb\n",
        "\n",
        "import sklearn  # scikit-learn\n",
        "import tensorflow as tf\n",
        "\n",
        "# import tensorflow models\n",
        "from tensorflow.keras.models import Sequential, Model\n",
        "from tensorflow.keras.layers import Dense, Dropout, Activation, Flatten, Input\n",
        "from tensorflow.keras.layers import Conv2D, MaxPooling2D\n",
        "from tensorflow.keras import optimizers\n",
        "print(tf.keras.__version__)"
      ],
      "execution_count": 2,
      "outputs": [
        {
          "output_type": "stream",
          "name": "stdout",
          "text": [
            "2.12.0\n"
          ]
        }
      ]
    },
    {
      "cell_type": "markdown",
      "metadata": {
        "id": "dxgAcMrMRHAt"
      },
      "source": [
        "# 1 - Multi-Layer Perceptron with Tensorflow"
      ]
    },
    {
      "cell_type": "markdown",
      "metadata": {
        "id": "OjK-B5mkRHAt"
      },
      "source": [
        "## Introduction to TensorFlow"
      ]
    },
    {
      "cell_type": "markdown",
      "metadata": {
        "id": "gzVmdesCRHAu"
      },
      "source": [
        "Tensorflow is an environment written by Google which allows easy implementation of deep neural networks. In particular, it provides automatic differentiation so that the user does not have to determine gradients manually, which can be extremely long even for simple networks, as you have seen in the previous TP*.\n",
        "\n",
        "This, in turn allows a user to apply techniques such as stochastic gradient descent for training purposes. The differentiation graph is created symbolically when the network is created. Since a neural network is simply a cascade (or concatenation) of simple functions, the network in Tensorflow is simply a sequence of functions which are applied to one or several variables. The output of the final function is the output of the network.\n",
        "\n",
        "For instance, if the input were ```x``` and the network consisted of two functions ```a``` and ```b```, you could create the network simply by writing :\n",
        "\n",
        "```y = b(a(x))```\n",
        "\n",
        "However, it is clear that these functions and variables must be of some special type, so that the computer can figure out how to carry out the automatic differentiation for training. Tensorflow provides these functions and variables, which must be created with the Tensorflow package.\n",
        "\n",
        "Previously, Tensorflow required a strict separation between the creation (declaration) of variables and their execution (giving a numerical value, using the ```Session``` function). With Keras and Tensorflow 2, this separation has been removed, and the language has become simpler, in particular for creating and training networks.\n",
        "\n",
        "## Creating a network\n",
        "\n",
        "To create a network, there are two (main) methods :\n",
        "\n",
        "### Creating a model using the Sequential API\n",
        "\n",
        "Tensorflow has a simple way of adding layers to create a neural network. First, you can indicate to Tensorflow that the model is 'sequential' (a simple model, with not many tweaks). For this, you can use the following function :\n",
        "- ```model = Sequential()```\n",
        "\n",
        "After this, you can add layers with the function.\n",
        "\n",
        "- ```model.add()```\n",
        "\n",
        "You can then use the ```Dense``` (and other) functions to specify different layer types.  __Note that in the case of this approach, you will have to specify the input image size in the first layer of the network, inside the first layer function.__ So, for example, if the first layer is a dense layer with a relu activation, with n_out output neurons, and n_input neurons :\n",
        "\n",
        "- model = Sequential()\n",
        "- model.add(Dense(n_out,activation,input_shape=(n_in,),activation='relu'))\n",
        "\n",
        "Otherwise, the network does not know how many weights to create. __Be careful of this special case (the first layer)__ \n",
        "\n",
        "### Creating a model using the standard API\n",
        "\n",
        "Otherwise, another approach to creating the model is to explicitly create the input variable, and just cascade the different functions, as in Tensorflow. So, for the same example, we would have :\n",
        "\n",
        "- input = Input(shape=(n_in,))\n",
        "- output = Dense(n_in,n_out,activation='relu')(input)\n",
        "- model = Model(input, output)\n",
        "\n",
        "\n",
        "For now, let's use the Sequential API (however, if you want to try the standard API, go ahead).\n",
        "\n",
        "## Training and testing a network\n",
        "\n",
        "Tensorflow allows the easy training of a network with the following functions :\n",
        "\n",
        "- model.compile(loss='binary_crossentropy', optimizer=optimizers.Adam(lr=learning_rate)) : create the loss function and define the optimiser used. This function can do many other useful things (such as specifying different metrics to look at the model's performance\n",
        "\n",
        "- model.fit(...) : train the model\n",
        "- model.evaluate(...) : test the model\n",
        "- model.predict(...) : carry out a simple forward pass on the model\n",
        "\n",
        "Please look at the Tensorflow documenation for further details on these functions.\n"
      ]
    },
    {
      "cell_type": "markdown",
      "metadata": {
        "id": "UYFxzt5mRHAy"
      },
      "source": [
        "# MLP with TensorFlow\n",
        "\n",
        "We are now going to create an MLP with tensorflow. We will start with an MLP with one hidden layer. The network should consist of the following operations, in the following order :\n",
        "\n",
        "- Fully connected layer, with 50 output neurons\n",
        "- ReLU activation\n",
        "- Fully connected layer, with 50 output neurons\n",
        "- ReLU activation\n",
        "- Fully connected layer, with 1 output neuron (because we have a binary classification problem)\n",
        "- Sigmoid output activation\n",
        "\n",
        "We are going to be solving a binary classification \n",
        "problem, so the output of the network should be a scalar between 0 and 1 (thus the last layer is a Sigmoid activation).\n",
        "\n",
        "The loss function should be defined as the binary cross-entropy between the predicted class and the true class\n"
      ]
    },
    {
      "cell_type": "markdown",
      "metadata": {
        "id": "jdGVzE6NRHAy"
      },
      "source": [
        "First, we load the data."
      ]
    },
    {
      "cell_type": "code",
      "metadata": {
        "id": "EfiJwuLmRHAy",
        "colab": {
          "base_uri": "https://localhost:8080/",
          "height": 430
        },
        "outputId": "4d4d0b5d-125c-4631-d512-350da740932c"
      },
      "source": [
        "from sklearn import datasets\n",
        "from sklearn.preprocessing import MinMaxScaler\n",
        "from sklearn.model_selection import train_test_split\n",
        "\n",
        "X, Y = datasets.make_circles(n_samples=1000, noise=0.05, factor=0.5)\n",
        "# X, y = datasets.make_moons(n_samples=1000, random_state=42)  # try with 2 moons\n",
        "X = MinMaxScaler().fit_transform(X)\n",
        "\n",
        "#show data in plot\n",
        "plt.plot(X[Y == 1, 0], X[Y == 1, 1], 'ro')\n",
        "plt.plot(X[Y == 0, 0], X[Y == 0, 1], 'bo')\n",
        "plt.grid('on')"
      ],
      "execution_count": 3,
      "outputs": [
        {
          "output_type": "display_data",
          "data": {
            "text/plain": [
              "<Figure size 640x480 with 1 Axes>"
            ],
            "image/png": "[encoded data removed]"
          },
          "metadata": {}
        }
      ]
    },
    {
      "cell_type": "markdown",
      "metadata": {
        "id": "cRL1c6UyRHAy"
      },
      "source": [
        "We are now going to define some useful auxillary functions.\n",
        "\n",
        "First, a function that shows the decision boundary of our network. This works only for 2D input data"
      ]
    },
    {
      "cell_type": "code",
      "metadata": {
        "id": "x0cUhY8xRHAz"
      },
      "source": [
        "# THIS CODE IS GIVEN\n",
        "\n",
        "def plot_decision_function_2d(model_mlp, X, Y):\n",
        "   # create a mesh to plot in\n",
        "    h = .02  # step size in the mesh\n",
        "    offset = 0.1\n",
        "    x_min, x_max = X[:, 0].min() - offset, X[:, 0].max() + offset\n",
        "    y_min, y_max = X[:, 1].min() - offset, X[:, 1].max() + offset\n",
        "    xx, yy = np.meshgrid(np.arange(x_min, x_max, h),\n",
        "                         np.arange(y_min, y_max, h))\n",
        "\n",
        "    # Plot the decision boundary. For that, we will assign a color to each\n",
        "    # point in the mesh [x_min, x_max]x[y_min, y_max].\n",
        "    Z = model_mlp.predict(np.c_[xx.ravel(), yy.ravel()])\n",
        "    print(Z.shape)\n",
        "    print(Z)\n",
        "    \n",
        "    Z = Z<0.5\n",
        "    # Put the result into a color plot\n",
        "    Z = Z.reshape(xx.shape)\n",
        "    plt.figure()\n",
        "    plt.contourf(xx, yy, Z, cmap=plt.cm.Paired)\n",
        "\n",
        "    plt.plot(X[Y == 1, 0], X[Y == 1, 1], 'yo')\n",
        "    plt.plot(X[Y == 0, 0], X[Y == 0, 1], 'ko')\n",
        "\n",
        "    plt.title(\"Decision surface\")\n",
        "    plt.axis('tight')"
      ],
      "execution_count": 4,
      "outputs": []
    },
    {
      "cell_type": "markdown",
      "metadata": {
        "id": "CKtZJ5iQRHA0"
      },
      "source": [
        "## CREATING AND TRAINING THE MODEL\n",
        "\n",
        "We are now ready to create our network with a Tensorflow Session and to carry out training on our training dataset."
      ]
    },
    {
      "cell_type": "code",
      "metadata": {
        "id": "WO8dHtrGRHA0",
        "colab": {
          "base_uri": "https://localhost:8080/"
        },
        "outputId": "0dddcaa7-8250-4173-a4cb-5f2014500452"
      },
      "source": [
        "# FILL IN CODE BY STUDENTS IN THIS SECTION\n",
        "\n",
        "#We split up the data into training and test data, using a function from Scikit-learn :\n",
        "X_train, X_test, Y_train, Y_test = train_test_split(X, Y, test_size=0.15)\n",
        "print(X_train.shape)\n",
        "\n",
        "# Layer sizes\n",
        "n_input = X.shape[1]  # Number of input features\n",
        "n_hidden = 50  # Number of hidden nodes\n",
        "\n",
        "# create the model (using the sequential API)\n",
        "\n",
        "model_mlp = Sequential([Input(shape=(n_input,)), Dense(n_hidden, activation = 'relu'), Dense(n_hidden, activation = 'relu'), Dense(1, activation = 'sigmoid')])  # FILL IN STUDENTS\n",
        "\n",
        "# create the loss and optimiser\n",
        "learning_rate = 0.01\n",
        "# BinaryCrossEntropy since it's a binary classifier \n",
        "model_mlp.compile(loss='BinaryCrossentropy', optimizer=\"Adam\", metrics=[\"accuracy\"]) # TO FILL IN\n",
        "\n",
        "# Run optimisation algorithm\n",
        "n_epochs = 20\n",
        "batch_size = 64\n",
        "\n",
        "print('Training')\n",
        "model_mlp.fit(X_train, Y_train, epochs=n_epochs, batch_size=batch_size) # TO FILL IN\n",
        "\n",
        "print('Testing')\n",
        "model_mlp.evaluate(X_test, Y_test, verbose=2) # TO FILL IN\n"
      ],
      "execution_count": 7,
      "outputs": [
        {
          "output_type": "stream",
          "name": "stdout",
          "text": [
            "(850, 2)\n",
            "Training\n",
            "Epoch 1/20\n",
            "14/14 [==============================] - 5s 4ms/step - loss: 0.6924 - accuracy: 0.5494\n",
            "Epoch 2/20\n",
            "14/14 [==============================] - 0s 3ms/step - loss: 0.6834 - accuracy: 0.6906\n",
            "Epoch 3/20\n",
            "14/14 [==============================] - 0s 4ms/step - loss: 0.6775 - accuracy: 0.7435\n",
            "Epoch 4/20\n",
            "14/14 [==============================] - 0s 3ms/step - loss: 0.6714 - accuracy: 0.7012\n",
            "Epoch 5/20\n",
            "14/14 [==============================] - 0s 3ms/step - loss: 0.6640 - accuracy: 0.7059\n",
            "Epoch 6/20\n",
            "14/14 [==============================] - 0s 3ms/step - loss: 0.6560 - accuracy: 0.6659\n",
            "Epoch 7/20\n",
            "14/14 [==============================] - 0s 3ms/step - loss: 0.6463 - accuracy: 0.7176\n",
            "Epoch 8/20\n",
            "14/14 [==============================] - 0s 3ms/step - loss: 0.6362 - accuracy: 0.7188\n",
            "Epoch 9/20\n",
            "14/14 [==============================] - 0s 3ms/step - loss: 0.6243 - accuracy: 0.7259\n",
            "Epoch 10/20\n",
            "14/14 [==============================] - 0s 4ms/step - loss: 0.6120 - accuracy: 0.7529\n",
            "Epoch 11/20\n",
            "14/14 [==============================] - 0s 3ms/step - loss: 0.5992 - accuracy: 0.7624\n",
            "Epoch 12/20\n",
            "14/14 [==============================] - 0s 4ms/step - loss: 0.5850 - accuracy: 0.7800\n",
            "Epoch 13/20\n",
            "14/14 [==============================] - 0s 3ms/step - loss: 0.5725 - accuracy: 0.7400\n",
            "Epoch 14/20\n",
            "14/14 [==============================] - 0s 4ms/step - loss: 0.5564 - accuracy: 0.7753\n",
            "Epoch 15/20\n",
            "14/14 [==============================] - 0s 3ms/step - loss: 0.5430 - accuracy: 0.8082\n",
            "Epoch 16/20\n",
            "14/14 [==============================] - 0s 4ms/step - loss: 0.5268 - accuracy: 0.7765\n",
            "Epoch 17/20\n",
            "14/14 [==============================] - 0s 3ms/step - loss: 0.5181 - accuracy: 0.8071\n",
            "Epoch 18/20\n",
            "14/14 [==============================] - 0s 4ms/step - loss: 0.4987 - accuracy: 0.7800\n",
            "Epoch 19/20\n",
            "14/14 [==============================] - 0s 4ms/step - loss: 0.4835 - accuracy: 0.8153\n",
            "Epoch 20/20\n",
            "14/14 [==============================] - 0s 4ms/step - loss: 0.4722 - accuracy: 0.8059\n",
            "Testing\n",
            "5/5 - 0s - loss: 0.5030 - accuracy: 0.7733 - 165ms/epoch - 33ms/step\n"
          ]
        },
        {
          "output_type": "execute_result",
          "data": {
            "text/plain": [
              "[0.502971887588501, 0.7733333110809326]"
            ]
          },
          "metadata": {},
          "execution_count": 7
        }
      ]
    },
    {
      "cell_type": "code",
      "metadata": {
        "id": "lpBaU1rcc0oY",
        "colab": {
          "base_uri": "https://localhost:8080/",
          "height": 617
        },
        "outputId": "a75420b5-31dd-47e6-acce-a79009102f96"
      },
      "source": [
        "plot_decision_function_2d(model_mlp, X_test, Y_test)"
      ],
      "execution_count": 8,
      "outputs": [
        {
          "output_type": "stream",
          "name": "stdout",
          "text": [
            "111/111 [==============================] - 0s 1ms/step\n",
            "(3540, 1)\n",
            "[[0.45427766]\n",
            " [0.45928922]\n",
            " [0.46443215]\n",
            " ...\n",
            " [0.5147649 ]\n",
            " [0.5077616 ]\n",
            " [0.49973407]]\n"
          ]
        },
        {
          "output_type": "display_data",
          "data": {
            "text/plain": [
              "<Figure size 640x480 with 1 Axes>"
            ],
            "image/png": "[encoded data removed]"
          },
          "metadata": {}
        }
      ]
    },
    {
      "cell_type": "markdown",
      "metadata": {
        "id": "6oni6Q5vRHA0"
      },
      "source": [
        "# MLP with several hidden layers\n",
        "\n",
        "We are now going to create an MLP with more hidden layers. We are going to use a more complicated dataset : the MNIST dataset, which contains images of handwritten digits. There are 10 classes, one for each digit.\n",
        "\n",
        "We are going to implement the following architecture :\n",
        "\n",
        "- Fully connected layer\n",
        "- Relu activation\n",
        "- Fully connected layer\n",
        "- Relu activation\n",
        "- Fully connected layer\n",
        "- Relu activation\n",
        "- Fully connected layer\n",
        "- Softmax output activation\n",
        "\n",
        "__IMPORTANT Note__ The sigmoid layer has been replaced by a softmax layer (at the end). This is normal, since we have a multi-class problem.\n",
        "\n",
        "\n",
        "First, we load the MNIST dataset."
      ]
    },
    {
      "cell_type": "code",
      "metadata": {
        "id": "Z0cGLMKRRHA0",
        "colab": {
          "base_uri": "https://localhost:8080/"
        },
        "outputId": "fdc27790-3418-4d38-8133-20dd4df1be15"
      },
      "source": [
        "# Import MNIST data\n",
        "mnist = tf.keras.datasets.mnist\n",
        "(X_train, y_train),(X_test, y_test) = mnist.load_data()\n",
        "\n",
        "Y_train = tf.keras.utils.to_categorical(y_train)  # in order to convert y to a matrix with (num_examples, num_classes) (one-hot encoding)\n",
        "Y_test = tf.keras.utils.to_categorical(y_test)  # in order to convert y to a matrix with (num_examples, num_classes) (one-hot encoding)\n",
        "\n",
        "#reshape the input images : flatten the last two dimensions\n",
        "X_train = np.reshape(X_train,(X_train.shape[0],X_train.shape[1]*X_train.shape[2]))\n",
        "X_test = np.reshape(X_test,(X_test.shape[0],X_test.shape[1]*X_test.shape[2]))\n"
      ],
      "execution_count": 9,
      "outputs": [
        {
          "output_type": "stream",
          "name": "stdout",
          "text": [
            "Downloading data from https://storage.googleapis.com/tensorflow/tf-keras-datasets/mnist.npz\n",
            "11490434/11490434 [==============================] - 0s 0us/step\n"
          ]
        }
      ]
    },
    {
      "cell_type": "markdown",
      "metadata": {
        "id": "EzMV_9-NRHA1"
      },
      "source": [
        "Finally, fill in the following code to create and train your MLP"
      ]
    },
    {
      "cell_type": "code",
      "metadata": {
        "id": "2G7AToqyRHA1",
        "colab": {
          "base_uri": "https://localhost:8080/"
        },
        "outputId": "6203878c-ad15-4018-f9da-d6b9d1768d61"
      },
      "source": [
        "\n",
        "# Network Parameters\n",
        "n_hidden_1 = 256 # 1st layer number of neurons\n",
        "n_hidden_2 = 256 # 2nd layer number of neurons\n",
        "n_hidden_3 = 128 # 3rd layer number of neurons\n",
        "\n",
        "n_input = X_train.shape[1]\n",
        "n_classes = Y_train.shape[1] # MNIST total classes (0-9 digits)\n",
        "\n",
        "# TO CODE BY STUDENTS\n",
        "\n",
        "model_mlp_multi_layer = Sequential([Input(shape=(n_input,)), Dense(n_hidden_1, activation = 'relu'), Dense(n_hidden_2, activation = 'relu'), Dense(n_hidden_3, activation = 'relu'), Dense(n_classes, activation = 'sigmoid')])   \n",
        "\n",
        "# create the loss and optimiser, use 'categorical_crossentropy' in loss\n",
        "model_mlp_multi_layer.compile(loss='categorical_crossentropy', optimizer=\"Adam\", metrics=[\"accuracy\"])\n",
        "\n",
        "# Run optimisation algorithm\n",
        "n_epochs = 20\n",
        "batch_size = 64\n",
        "\n",
        "print('Training')\n",
        "model_mlp_multi_layer.fit(X_train, Y_train, epochs=n_epochs, batch_size=batch_size)\n",
        "\n",
        "print('Testing')\n",
        "model_mlp_multi_layer.evaluate(X_test,  Y_test, verbose=2)"
      ],
      "execution_count": 12,
      "outputs": [
        {
          "output_type": "stream",
          "name": "stdout",
          "text": [
            "Training\n",
            "Epoch 1/20\n",
            "938/938 [==============================] - 6s 4ms/step - loss: 1.0027 - accuracy: 0.8897\n",
            "Epoch 2/20\n",
            "938/938 [==============================] - 3s 3ms/step - loss: 0.1868 - accuracy: 0.9495\n",
            "Epoch 3/20\n",
            "938/938 [==============================] - 3s 3ms/step - loss: 0.1375 - accuracy: 0.9609\n",
            "Epoch 4/20\n",
            "938/938 [==============================] - 4s 4ms/step - loss: 0.1133 - accuracy: 0.9674\n",
            "Epoch 5/20\n",
            "938/938 [==============================] - 3s 3ms/step - loss: 0.1037 - accuracy: 0.9705\n",
            "Epoch 6/20\n",
            "938/938 [==============================] - 3s 3ms/step - loss: 0.0914 - accuracy: 0.9733\n",
            "Epoch 7/20\n",
            "938/938 [==============================] - 3s 3ms/step - loss: 0.0824 - accuracy: 0.9761\n",
            "Epoch 8/20\n",
            "938/938 [==============================] - 4s 4ms/step - loss: 0.0828 - accuracy: 0.9769\n",
            "Epoch 9/20\n",
            "938/938 [==============================] - 3s 3ms/step - loss: 0.0638 - accuracy: 0.9815\n",
            "Epoch 10/20\n",
            "938/938 [==============================] - 3s 3ms/step - loss: 0.0606 - accuracy: 0.9825\n",
            "Epoch 11/20\n",
            "938/938 [==============================] - 4s 4ms/step - loss: 0.0651 - accuracy: 0.9830\n",
            "Epoch 12/20\n",
            "938/938 [==============================] - 4s 4ms/step - loss: 0.0566 - accuracy: 0.9847\n",
            "Epoch 13/20\n",
            "938/938 [==============================] - 4s 4ms/step - loss: 0.0572 - accuracy: 0.9847\n",
            "Epoch 14/20\n",
            "938/938 [==============================] - 6s 6ms/step - loss: 0.0500 - accuracy: 0.9868\n",
            "Epoch 15/20\n",
            "938/938 [==============================] - 4s 4ms/step - loss: 0.0433 - accuracy: 0.9875\n",
            "Epoch 16/20\n",
            "938/938 [==============================] - 3s 3ms/step - loss: 0.0441 - accuracy: 0.9887\n",
            "Epoch 17/20\n",
            "938/938 [==============================] - 3s 3ms/step - loss: 0.0404 - accuracy: 0.9892\n",
            "Epoch 18/20\n",
            "938/938 [==============================] - 4s 4ms/step - loss: 0.0400 - accuracy: 0.9896\n",
            "Epoch 19/20\n",
            "938/938 [==============================] - 3s 3ms/step - loss: 0.0431 - accuracy: 0.9897\n",
            "Epoch 20/20\n",
            "938/938 [==============================] - 3s 3ms/step - loss: 0.0338 - accuracy: 0.9912\n",
            "Testing\n",
            "313/313 - 1s - loss: 0.1710 - accuracy: 0.9728 - 754ms/epoch - 2ms/step\n"
          ]
        },
        {
          "output_type": "execute_result",
          "data": {
            "text/plain": [
              "[0.17099235951900482, 0.9728000164031982]"
            ]
          },
          "metadata": {},
          "execution_count": 12
        }
      ]
    },
    {
      "cell_type": "code",
      "metadata": {
        "id": "s6Q-JntxluxG"
      },
      "source": [
        "# THIS CODE IS GIVEN\n",
        "\n",
        "def test_mnist_images(model_mlp_multi_layer,X_test):\n",
        "  plt.figure(figsize=(10, 6))\n",
        "  for idx in range(0,10):\n",
        "      plt.subplot(2, 5, idx+1)\n",
        "      rand_ind = np.random.randint(0,X_test.shape[0])\n",
        "      plt.imshow(np.reshape(X_test[rand_ind,:],(28,28)),cmap='gray')\n",
        "      # get prediction\n",
        "      model_prediction = np.argmax(model_mlp_multi_layer.predict(np.expand_dims( X_test[rand_ind,:], axis=0)),axis=1)\n",
        "      plt.title(int(model_prediction))"
      ],
      "execution_count": 13,
      "outputs": []
    },
    {
      "cell_type": "code",
      "metadata": {
        "id": "r2D9RE4apVWW",
        "colab": {
          "base_uri": "https://localhost:8080/",
          "height": 652
        },
        "outputId": "999359d6-e1c8-45b0-b3d5-9a5093df4651"
      },
      "source": [
        "test_mnist_images(model_mlp_multi_layer,X_test)"
      ],
      "execution_count": 14,
      "outputs": [
        {
          "output_type": "stream",
          "name": "stdout",
          "text": [
            "1/1 [==============================] - 0s 112ms/step\n",
            "1/1 [==============================] - 0s 31ms/step\n",
            "1/1 [==============================] - 0s 49ms/step\n",
            "1/1 [==============================] - 0s 30ms/step\n",
            "1/1 [==============================] - 0s 34ms/step\n",
            "1/1 [==============================] - 0s 18ms/step\n",
            "1/1 [==============================] - 0s 18ms/step\n",
            "1/1 [==============================] - 0s 20ms/step\n",
            "1/1 [==============================] - 0s 18ms/step\n",
            "1/1 [==============================] - 0s 19ms/step\n"
          ]
        },
        {
          "output_type": "display_data",
          "data": {
            "text/plain": [
              "<Figure size 1000x600 with 10 Axes>"
            ],
            "image/png": "[encoded data removed]"
          },
          "metadata": {}
        }
      ]
    },
    {
      "cell_type": "markdown",
      "metadata": {
        "id": "lItdBVnfu7xK"
      },
      "source": [
        "You may observe some difficulties in getting good performance in this case. To improve training, we can turn to __batch_normalisation__ and __regularisation__"
      ]
    },
    {
      "cell_type": "markdown",
      "metadata": {
        "id": "Vgao_U5XRHA2"
      },
      "source": [
        "## BATCH NORMALISATION\n",
        "\n",
        "One approach to improving the convergence of neural network training which we have seen during the lesson is known as batch normalisation, which we have seen during the lesson. This can be implemented very simply in Tensorflow by adding the following layer :\n",
        "\n",
        "- ```BatchNormalization()```\n",
        "\n",
        "Change your model below, and implement this using your code above"
      ]
    },
    {
      "cell_type": "code",
      "metadata": {
        "id": "6Ela5-4XRHA2",
        "colab": {
          "base_uri": "https://localhost:8080/"
        },
        "outputId": "e8b70417-cf41-456f-bcb2-f663b8e06758"
      },
      "source": [
        "from tensorflow.keras.layers import Dense, BatchNormalization\n",
        "\n",
        "# TO CODE BY STUDENTS\n",
        "\n",
        "# Network Parameters\n",
        "n_hidden_1 = 256 # 1st layer number of neurons\n",
        "n_hidden_2 = 256 # 2nd layer number of neurons\n",
        "n_hidden_3 = 128 # 3rd layer number of neurons\n",
        "\n",
        "n_input = X_train.shape[1]\n",
        "n_classes = Y_train.shape[1] # MNIST total classes (0-9 digits)\n",
        "\n",
        "# TO CODE BY STUDENTS\n",
        "model_mlp_multi_layer = Sequential([\n",
        "                        Input(shape=(n_input,)),\n",
        "                        Dense(n_hidden_1, activation = 'relu'),\n",
        "                        BatchNormalization(),\n",
        "                        Dense(n_hidden_2, activation = 'relu'),\n",
        "                        BatchNormalization(),\n",
        "                        Dense(n_hidden_3, activation = 'relu'),\n",
        "                        BatchNormalization(),\n",
        "                        Dense(n_classes, activation = 'sigmoid')\n",
        "                        ])   \n",
        "\n",
        "# create the loss and optimiser, use 'categorical_crossentropy' in loss\n",
        "model_mlp_multi_layer.compile(loss='categorical_crossentropy', optimizer=\"Adam\", metrics=[\"accuracy\"])\n",
        "\n",
        "# Run optimisation algorithm\n",
        "n_epochs = 20\n",
        "batch_size = 64\n",
        "\n",
        "print('Training')\n",
        "model_mlp_multi_layer.fit(X_train, Y_train, epochs=n_epochs, batch_size=batch_size)\n",
        "\n",
        "print('Testing')\n",
        "model_mlp_multi_layer.evaluate(X_test,  Y_test, verbose=2)"
      ],
      "execution_count": 16,
      "outputs": [
        {
          "output_type": "stream",
          "name": "stdout",
          "text": [
            "Training\n",
            "Epoch 1/20\n",
            "938/938 [==============================] - 9s 6ms/step - loss: 0.2003 - accuracy: 0.9397\n",
            "Epoch 2/20\n",
            "938/938 [==============================] - 5s 6ms/step - loss: 0.0925 - accuracy: 0.9715\n",
            "Epoch 3/20\n",
            "938/938 [==============================] - 6s 6ms/step - loss: 0.0659 - accuracy: 0.9788\n",
            "Epoch 4/20\n",
            "938/938 [==============================] - 10s 11ms/step - loss: 0.0575 - accuracy: 0.9808\n",
            "Epoch 5/20\n",
            "938/938 [==============================] - 9s 10ms/step - loss: 0.0453 - accuracy: 0.9858\n",
            "Epoch 6/20\n",
            "938/938 [==============================] - 9s 10ms/step - loss: 0.0401 - accuracy: 0.9867\n",
            "Epoch 7/20\n",
            "938/938 [==============================] - 5s 6ms/step - loss: 0.0360 - accuracy: 0.9880\n",
            "Epoch 8/20\n",
            "938/938 [==============================] - 6s 6ms/step - loss: 0.0294 - accuracy: 0.9896\n",
            "Epoch 9/20\n",
            "938/938 [==============================] - 5s 6ms/step - loss: 0.0265 - accuracy: 0.9909\n",
            "Epoch 10/20\n",
            "938/938 [==============================] - 6s 6ms/step - loss: 0.0227 - accuracy: 0.9926\n",
            "Epoch 11/20\n",
            "938/938 [==============================] - 5s 6ms/step - loss: 0.0229 - accuracy: 0.9926\n",
            "Epoch 12/20\n",
            "938/938 [==============================] - 6s 6ms/step - loss: 0.0196 - accuracy: 0.9930\n",
            "Epoch 13/20\n",
            "938/938 [==============================] - 6s 6ms/step - loss: 0.0188 - accuracy: 0.9937\n",
            "Epoch 14/20\n",
            "938/938 [==============================] - 5s 6ms/step - loss: 0.0191 - accuracy: 0.9937\n",
            "Epoch 15/20\n",
            "938/938 [==============================] - 6s 6ms/step - loss: 0.0143 - accuracy: 0.9953\n",
            "Epoch 16/20\n",
            "938/938 [==============================] - 5s 6ms/step - loss: 0.0144 - accuracy: 0.9953\n",
            "Epoch 17/20\n",
            "938/938 [==============================] - 6s 6ms/step - loss: 0.0155 - accuracy: 0.9948\n",
            "Epoch 18/20\n",
            "938/938 [==============================] - 5s 6ms/step - loss: 0.0135 - accuracy: 0.9956\n",
            "Epoch 19/20\n",
            "938/938 [==============================] - 6s 6ms/step - loss: 0.0129 - accuracy: 0.9956\n",
            "Epoch 20/20\n",
            "938/938 [==============================] - 5s 6ms/step - loss: 0.0120 - accuracy: 0.9960\n",
            "Testing\n",
            "313/313 - 1s - loss: 0.0658 - accuracy: 0.9851 - 842ms/epoch - 3ms/step\n"
          ]
        },
        {
          "output_type": "execute_result",
          "data": {
            "text/plain": [
              "[0.06580650061368942, 0.9850999712944031]"
            ]
          },
          "metadata": {},
          "execution_count": 16
        }
      ]
    },
    {
      "cell_type": "code",
      "metadata": {
        "id": "cSxGzvQ3pg3u",
        "colab": {
          "base_uri": "https://localhost:8080/",
          "height": 652
        },
        "outputId": "4039976f-fe5d-4dfa-c7cd-b7c4270eaf0c"
      },
      "source": [
        "test_mnist_images(model_mlp_multi_layer,X_test)"
      ],
      "execution_count": 17,
      "outputs": [
        {
          "output_type": "stream",
          "name": "stdout",
          "text": [
            "1/1 [==============================] - 0s 100ms/step\n",
            "1/1 [==============================] - 0s 21ms/step\n",
            "1/1 [==============================] - 0s 19ms/step\n",
            "1/1 [==============================] - 0s 20ms/step\n",
            "1/1 [==============================] - 0s 18ms/step\n",
            "1/1 [==============================] - 0s 17ms/step\n",
            "1/1 [==============================] - 0s 20ms/step\n",
            "1/1 [==============================] - 0s 18ms/step\n",
            "1/1 [==============================] - 0s 18ms/step\n",
            "1/1 [==============================] - 0s 18ms/step\n"
          ]
        },
        {
          "output_type": "display_data",
          "data": {
            "text/plain": [
              "<Figure size 1000x600 with 10 Axes>"
            ],
            "image/png": "[encoded data removed]"
          },
          "metadata": {}
        }
      ]
    },
    {
      "cell_type": "markdown",
      "source": [
        "## Dropout\n",
        "\n",
        "Often in the process of training neural networks, there is a difference between the training accuracy and the testing accuracy. This is the problem of overfitting. To alleviate this problem, we can turn to _dropout_:\n",
        "\n",
        "```tf.keras.layers.Dropout(rate,...)```\n",
        "\n",
        "where rate is the probability that an input neuron to a layer will get set to 0. You can do this in any layer. Use the previous architecture and try out the dropout. Set the dropout rate to 0.1 on the first layer as a test. Then try it out on all layers (you may not see a great difference here since the mnist database is relatively simple, this is just to show you how it is done). "
      ],
      "metadata": {
        "id": "iQPJDop31Nci"
      }
    },
    {
      "cell_type": "code",
      "source": [
        "from tensorflow.keras.layers import Dense, BatchNormalization, Dropout\n",
        "\n",
        "# TO CODE BY STUDENTS\n",
        "# Network Parameters\n",
        "n_hidden_1 = 256 # 1st layer number of neurons\n",
        "n_hidden_2 = 256 # 2nd layer number of neurons\n",
        "n_hidden_3 = 128 # 3rd layer number of neurons\n",
        "\n",
        "n_input = X_train.shape[1]\n",
        "n_classes = Y_train.shape[1] # MNIST total classes (0-9 digits)\n",
        "\n",
        "# TO CODE BY STUDENTS\n",
        "model_mlp_multi_layer = Sequential([\n",
        "                        Input(shape=(n_input,)),\n",
        "                        Dense(n_hidden_1, activation = 'relu'),\n",
        "                        BatchNormalization(),\n",
        "                        Dropout(0.1),\n",
        "                        Dense(n_hidden_2, activation = 'relu'),\n",
        "                        BatchNormalization(),\n",
        "                        Dropout(0.1),\n",
        "                        Dense(n_hidden_3, activation = 'relu'),\n",
        "                        BatchNormalization(),\n",
        "                        Dropout(0.1),\n",
        "                        Dense(n_classes, activation = 'sigmoid')\n",
        "                        ])   \n",
        "\n",
        "# create the loss and optimiser, use 'categorical_crossentropy' in loss\n",
        "model_mlp_multi_layer.compile(loss='categorical_crossentropy', optimizer=\"Adam\", metrics=[\"accuracy\"])\n",
        "\n",
        "# Run optimisation algorithm\n",
        "n_epochs = 20\n",
        "batch_size = 64\n",
        "\n",
        "print('Training')\n",
        "model_mlp_multi_layer.fit(X_train, Y_train, epochs=n_epochs, batch_size=batch_size)\n",
        "\n",
        "print('Testing')\n",
        "model_mlp_multi_layer.evaluate(X_test,  Y_test, verbose=2)"
      ],
      "metadata": {
        "id": "x-BF-fpo1PpW",
        "colab": {
          "base_uri": "https://localhost:8080/"
        },
        "outputId": "5d1969fd-5a01-41fa-8430-3e251bdd0940"
      },
      "execution_count": 18,
      "outputs": [
        {
          "output_type": "stream",
          "name": "stdout",
          "text": [
            "Training\n",
            "Epoch 1/20\n",
            "938/938 [==============================] - 9s 6ms/step - loss: 0.2434 - accuracy: 0.9249\n",
            "Epoch 2/20\n",
            "938/938 [==============================] - 5s 6ms/step - loss: 0.1174 - accuracy: 0.9641\n",
            "Epoch 3/20\n",
            "938/938 [==============================] - 7s 7ms/step - loss: 0.0915 - accuracy: 0.9713\n",
            "Epoch 4/20\n",
            "938/938 [==============================] - 5s 6ms/step - loss: 0.0778 - accuracy: 0.9751\n",
            "Epoch 5/20\n",
            "938/938 [==============================] - 7s 7ms/step - loss: 0.0673 - accuracy: 0.9784\n",
            "Epoch 6/20\n",
            "938/938 [==============================] - 5s 6ms/step - loss: 0.0587 - accuracy: 0.9814\n",
            "Epoch 7/20\n",
            "938/938 [==============================] - 6s 7ms/step - loss: 0.0516 - accuracy: 0.9834\n",
            "Epoch 8/20\n",
            "938/938 [==============================] - 5s 6ms/step - loss: 0.0467 - accuracy: 0.9850\n",
            "Epoch 9/20\n",
            "938/938 [==============================] - 6s 6ms/step - loss: 0.0437 - accuracy: 0.9858\n",
            "Epoch 10/20\n",
            "938/938 [==============================] - 5s 6ms/step - loss: 0.0377 - accuracy: 0.9876\n",
            "Epoch 11/20\n",
            "938/938 [==============================] - 6s 6ms/step - loss: 0.0358 - accuracy: 0.9880\n",
            "Epoch 12/20\n",
            "938/938 [==============================] - 5s 6ms/step - loss: 0.0340 - accuracy: 0.9886\n",
            "Epoch 13/20\n",
            "938/938 [==============================] - 6s 6ms/step - loss: 0.0284 - accuracy: 0.9905\n",
            "Epoch 14/20\n",
            "938/938 [==============================] - 6s 6ms/step - loss: 0.0303 - accuracy: 0.9894\n",
            "Epoch 15/20\n",
            "938/938 [==============================] - 5s 6ms/step - loss: 0.0288 - accuracy: 0.9904\n",
            "Epoch 16/20\n",
            "938/938 [==============================] - 6s 6ms/step - loss: 0.0284 - accuracy: 0.9900\n",
            "Epoch 17/20\n",
            "938/938 [==============================] - 5s 6ms/step - loss: 0.0242 - accuracy: 0.9922\n",
            "Epoch 18/20\n",
            "938/938 [==============================] - 6s 6ms/step - loss: 0.0238 - accuracy: 0.9918\n",
            "Epoch 19/20\n",
            "938/938 [==============================] - 5s 6ms/step - loss: 0.0200 - accuracy: 0.9933\n",
            "Epoch 20/20\n",
            "938/938 [==============================] - 6s 6ms/step - loss: 0.0216 - accuracy: 0.9929\n",
            "Testing\n",
            "313/313 - 1s - loss: 0.0952 - accuracy: 0.9822 - 826ms/epoch - 3ms/step\n"
          ]
        },
        {
          "output_type": "execute_result",
          "data": {
            "text/plain": [
              "[0.09520721435546875, 0.982200026512146]"
            ]
          },
          "metadata": {},
          "execution_count": 18
        }
      ]
    },
    {
      "cell_type": "markdown",
      "metadata": {
        "id": "Y2CWgKZeRHA2"
      },
      "source": [
        "#### Documentation:\n",
        "\n",
        "  - http://www.tensorflow.org\n",
        "  - http://www.deeplearningbook.org/"
      ]
    }
  ]
}